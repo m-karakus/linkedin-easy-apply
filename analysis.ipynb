{
 "cells": [
  {
   "cell_type": "code",
   "execution_count": 36,
   "metadata": {},
   "outputs": [],
   "source": [
    "import pandas as pd\n",
    "import numpy as np\n",
    "from datetime import datetime\n",
    "import polars as pl"
   ]
  },
  {
   "cell_type": "code",
   "execution_count": 37,
   "metadata": {},
   "outputs": [],
   "source": [
    "path = './volumes/output.csv'\n",
    "columns=['timestamp', 'job_id', 'position', 'location', 'job', 'company', 'attempted', 'result']\n",
    "\n",
    "df = pl.read_csv(path,new_columns=columns, has_header=False,try_parse_dates=True)"
   ]
  },
  {
   "cell_type": "code",
   "execution_count": 38,
   "metadata": {},
   "outputs": [],
   "source": [
    "df = df.filter(pl.col(\"result\") ==True)"
   ]
  },
  {
   "cell_type": "code",
   "execution_count": 39,
   "metadata": {},
   "outputs": [],
   "source": [
    "path = './volumes/output2.csv'\n",
    "df.write_csv(file=path,has_header=False,datetime_format='%Y-%m-%d %H:%M:%S')"
   ]
  },
  {
   "cell_type": "code",
   "execution_count": 40,
   "metadata": {},
   "outputs": [
    {
     "data": {
      "text/plain": [
       "<bound method DataFrame.describe of shape: (1_287, 8)\n",
       "┌─────────────┬────────────┬───────────┬────────────┬────────────┬────────────┬───────────┬────────┐\n",
       "│ timestamp   ┆ job_id     ┆ position  ┆ location   ┆ job        ┆ company    ┆ attempted ┆ result │\n",
       "│ ---         ┆ ---        ┆ ---       ┆ ---        ┆ ---        ┆ ---        ┆ ---       ┆ ---    │\n",
       "│ datetime[μs ┆ i64        ┆ str       ┆ str        ┆ str        ┆ str        ┆ bool      ┆ bool   │\n",
       "│ ]           ┆            ┆           ┆            ┆            ┆            ┆           ┆        │\n",
       "╞═════════════╪════════════╪═══════════╪════════════╪════════════╪════════════╪═══════════╪════════╡\n",
       "│ 2023-10-24  ┆ 3740116807 ┆ null      ┆ &location= ┆ Data       ┆ Encoretech ┆ true      ┆ true   │\n",
       "│ 04:40:48    ┆            ┆           ┆ European   ┆ Analyst    ┆            ┆           ┆        │\n",
       "│             ┆            ┆           ┆ Economic   ┆            ┆            ┆           ┆        │\n",
       "│             ┆            ┆           ┆ Area       ┆            ┆            ┆           ┆        │\n",
       "│ 2023-10-24  ┆ 3281711737 ┆ null      ┆ &location= ┆ Data       ┆ Kabel      ┆ true      ┆ true   │\n",
       "│ 04:44:40    ┆            ┆           ┆ European   ┆ Consultant ┆            ┆           ┆        │\n",
       "│             ┆            ┆           ┆ Economic   ┆ (Azure,    ┆            ┆           ┆        │\n",
       "│             ┆            ┆           ┆ Area       ┆ Power Bi…  ┆            ┆           ┆        │\n",
       "│ 2023-10-24  ┆ 3705985001 ┆ null      ┆ &location= ┆ Data       ┆ Universal  ┆ true      ┆ true   │\n",
       "│ 04:45:16    ┆            ┆           ┆ European   ┆ Analyst    ┆ Diagnostic ┆           ┆        │\n",
       "│             ┆            ┆           ┆ Economic   ┆            ┆ s S.A.     ┆           ┆        │\n",
       "│             ┆            ┆           ┆ Area       ┆            ┆            ┆           ┆        │\n",
       "│ 2023-10-24  ┆ 3744782669 ┆ null      ┆ &location= ┆ Senior     ┆ Luxoft     ┆ true      ┆ true   │\n",
       "│ 04:47:27    ┆            ┆           ┆ European   ┆ Data       ┆            ┆           ┆        │\n",
       "│             ┆            ┆           ┆ Economic   ┆ Analyst    ┆            ┆           ┆        │\n",
       "│             ┆            ┆           ┆ Area       ┆            ┆            ┆           ┆        │\n",
       "│ …           ┆ …          ┆ …         ┆ …          ┆ …          ┆ …          ┆ …         ┆ …      │\n",
       "│ 2023-11-04  ┆ 3754984926 ┆ Data Lead ┆ &location= ┆ Interim    ┆ Ahold      ┆ true      ┆ true   │\n",
       "│ 10:24:52    ┆            ┆           ┆ Netherland ┆ Data &     ┆ Delhaize   ┆           ┆        │\n",
       "│             ┆            ┆           ┆ s          ┆ Analytics  ┆            ┆           ┆        │\n",
       "│             ┆            ┆           ┆            ┆ Special…   ┆            ┆           ┆        │\n",
       "│ 2023-11-04  ┆ 3736894836 ┆ Data Lead ┆ &location= ┆ Legal      ┆ Major,     ┆ true      ┆ true   │\n",
       "│ 10:29:22    ┆            ┆           ┆ Netherland ┆ Counsel    ┆ Lindsey &  ┆           ┆        │\n",
       "│             ┆            ┆           ┆ s          ┆ Data &     ┆ Africa     ┆           ┆        │\n",
       "│             ┆            ┆           ┆            ┆ Privacy    ┆            ┆           ┆        │\n",
       "│ 2023-11-04  ┆ 3756394734 ┆ Data Lead ┆ &location= ┆ Medewerker ┆ USG Engine ┆ true      ┆ true   │\n",
       "│ 10:29:47    ┆            ┆           ┆ Netherland ┆ Asset Data ┆ ering NL   ┆           ┆        │\n",
       "│             ┆            ┆           ┆ s          ┆            ┆            ┆           ┆        │\n",
       "│ 2023-11-04  ┆ 3747015073 ┆ Data Lead ┆ &location= ┆ Junior     ┆ ilionx     ┆ true      ┆ true   │\n",
       "│ 10:30:17    ┆            ┆           ┆ Netherland ┆ Data Profe ┆            ┆           ┆        │\n",
       "│             ┆            ┆           ┆ s          ┆ ssional    ┆            ┆           ┆        │\n",
       "└─────────────┴────────────┴───────────┴────────────┴────────────┴────────────┴───────────┴────────┘>"
      ]
     },
     "execution_count": 40,
     "metadata": {},
     "output_type": "execute_result"
    }
   ],
   "source": [
    "df.describe"
   ]
  },
  {
   "cell_type": "code",
   "execution_count": 41,
   "metadata": {},
   "outputs": [
    {
     "name": "stdout",
     "output_type": "stream",
     "text": [
      "Rows: 1287\n",
      "Columns: 8\n",
      "$ timestamp <datetime[μs]> 2023-10-24 04:40:48, 2023-10-24 04:44:40, 2023-10-24 04:45:16, 2023-10-24 04:47:27, 2023-10-24 04:50:09, 2023-10-24 04:50:55, 2023-10-24 04:52:50, 2023-10-24 04:55:15, 2023-10-24 04:57:05, 2023-10-24 05:12:44\n",
      "$ job_id             <i64> 3740116807, 3281711737, 3705985001, 3744782669, 3705877501, 3737987670, 3728215830, 3730247083, 3735059598, 3741786261\n",
      "$ position           <str> None, None, None, None, None, None, None, None, None, None\n",
      "$ location           <str> '&location=European Economic Area', '&location=European Economic Area', '&location=European Economic Area', '&location=European Economic Area', '&location=European Economic Area', '&location=European Economic Area', '&location=European Economic Area', '&location=European Economic Area', '&location=European Economic Area', '&location=European Economic Area'\n",
      "$ job                <str> 'Data Analyst', 'Data Consultant (Azure, Power Bi)', 'Data Analyst', 'Senior Data Analyst', 'Data Analyst', 'Data Analyst', 'Consultor/a BI', 'Data Expert Analyst', 'Data Analyst (Power BI) & AWS Services (S3/Redshift)', 'Analytics Consultant'\n",
      "$ company            <str> 'Encoretech', 'Kabel', 'Universal Diagnostics S.A.', 'Luxoft', 'RealNaut', 'Remote', 'NTT DATA', 'Keepler Data Tech', 'Bluetab, an IBM Company', 'P3'\n",
      "$ attempted         <bool> True, True, True, True, True, True, True, True, True, True\n",
      "$ result            <bool> True, True, True, True, True, True, True, True, True, True\n",
      "\n"
     ]
    }
   ],
   "source": [
    "df.glimpse()"
   ]
  },
  {
   "cell_type": "code",
   "execution_count": 45,
   "metadata": {},
   "outputs": [
    {
     "data": {
      "text/html": [
       "<div><style>\n",
       ".dataframe > thead > tr > th,\n",
       ".dataframe > tbody > tr > td {\n",
       "  text-align: right;\n",
       "  white-space: pre-wrap;\n",
       "}\n",
       "</style>\n",
       "<small>shape: (5, 3)</small><table border=\"1\" class=\"dataframe\"><thead><tr><th>location</th><th>result</th><th>count</th></tr><tr><td>str</td><td>bool</td><td>u32</td></tr></thead><tbody><tr><td>&quot;&amp;location=Euro…</td><td>true</td><td>732</td></tr><tr><td>&quot;&amp;location=Neth…</td><td>true</td><td>207</td></tr><tr><td>&quot;&amp;location=Turk…</td><td>true</td><td>284</td></tr><tr><td>&quot;&amp;location=Germ…</td><td>true</td><td>35</td></tr><tr><td>&quot;&amp;location=Denm…</td><td>true</td><td>29</td></tr></tbody></table></div>"
      ],
      "text/plain": [
       "shape: (5, 3)\n",
       "┌──────────────────────────────────┬────────┬───────┐\n",
       "│ location                         ┆ result ┆ count │\n",
       "│ ---                              ┆ ---    ┆ ---   │\n",
       "│ str                              ┆ bool   ┆ u32   │\n",
       "╞══════════════════════════════════╪════════╪═══════╡\n",
       "│ &location=European Economic Area ┆ true   ┆ 732   │\n",
       "│ &location=Netherlands            ┆ true   ┆ 207   │\n",
       "│ &location=Turkey                 ┆ true   ┆ 284   │\n",
       "│ &location=Germany                ┆ true   ┆ 35    │\n",
       "│ &location=Denmark                ┆ true   ┆ 29    │\n",
       "└──────────────────────────────────┴────────┴───────┘"
      ]
     },
     "execution_count": 45,
     "metadata": {},
     "output_type": "execute_result"
    }
   ],
   "source": [
    "df.group_by([\"location\",\"result\"]).agg([pl.count()])"
   ]
  },
  {
   "cell_type": "markdown",
   "metadata": {},
   "source": [
    "---"
   ]
  },
  {
   "cell_type": "code",
   "execution_count": null,
   "metadata": {},
   "outputs": [],
   "source": [
    "df_successfull.describe()"
   ]
  },
  {
   "cell_type": "code",
   "execution_count": null,
   "metadata": {},
   "outputs": [],
   "source": [
    "file_path = './volumes/output2.csv'\n",
    "df.to_csv(file_path,index=False,header=False)"
   ]
  },
  {
   "cell_type": "code",
   "execution_count": null,
   "metadata": {},
   "outputs": [],
   "source": [
    "df.groupby(['location','result']).size().reset_index(name='counts')"
   ]
  },
  {
   "cell_type": "code",
   "execution_count": null,
   "metadata": {},
   "outputs": [],
   "source": [
    "df.groupby(['position','result']).size().reset_index(name='counts')"
   ]
  },
  {
   "cell_type": "code",
   "execution_count": null,
   "metadata": {},
   "outputs": [],
   "source": []
  }
 ],
 "metadata": {
  "kernelspec": {
   "display_name": "dev",
   "language": "python",
   "name": "python3"
  },
  "language_info": {
   "codemirror_mode": {
    "name": "ipython",
    "version": 3
   },
   "file_extension": ".py",
   "mimetype": "text/x-python",
   "name": "python",
   "nbconvert_exporter": "python",
   "pygments_lexer": "ipython3",
   "version": "3.11.5"
  }
 },
 "nbformat": 4,
 "nbformat_minor": 2
}
